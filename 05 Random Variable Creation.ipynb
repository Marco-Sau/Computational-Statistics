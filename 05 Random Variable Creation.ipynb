{
 "cells": [
  {
   "cell_type": "markdown",
   "metadata": {},
   "source": [
    "# <span style=\"color:#756bb1\">Creazione di Variabili Casuali (Esempio)</span>"
   ]
  },
  {
   "cell_type": "markdown",
   "metadata": {},
   "source": [
    "Definire una v.c. che riproduce i risultati dell'esperimento consistente nel lanciare simultaneamente 2 dadi equilibrati e 2 monete regolari. Il punteggio finale è pari alla somma dei punteggi ottenuti nel lancio dei dadi meno una penalizzazione di 3 punti  per ogni Testa.\n",
    "\n",
    " Definire:\n",
    " \n",
    "-  a) la funzione di probabilità\n",
    "-  b) la funzione di ripartizione\n",
    "\n",
    " e calcolare:\n",
    " \n",
    "- d) il valore atteso\n",
    "- e) lo scarto quadratico medio\n",
    "- f)  rappresentare graficamente i risultati ottenuti ipotizzando di ripetere l'esperimento 100 volte"
   ]
  },
  {
   "cell_type": "markdown",
   "metadata": {},
   "source": [
    "#### <span style=\"color:#3182bd\">Esperimenti</span>"
   ]
  },
  {
   "cell_type": "markdown",
   "metadata": {},
   "source": [
    "Risultato di un singolo esperimento"
   ]
  },
  {
   "cell_type": "code",
   "execution_count": 1,
   "metadata": {
    "vscode": {
     "languageId": "r"
    }
   },
   "outputs": [
    {
     "data": {
      "text/html": [
       "6"
      ],
      "text/latex": [
       "6"
      ],
      "text/markdown": [
       "6"
      ],
      "text/plain": [
       "[1] 6"
      ]
     },
     "metadata": {},
     "output_type": "display_data"
    }
   ],
   "source": [
    "set.seed(123)\n",
    "# ? sample\n",
    "sum(\n",
    "  sample(1:6, size= 2, replace = T) +\n",
    "  sample(c(-3,0), size= 2, replace = T)\n",
    ")"
   ]
  },
  {
   "cell_type": "markdown",
   "metadata": {},
   "source": [
    "Salviamo i risultati dei dadi in un vettore"
   ]
  },
  {
   "cell_type": "code",
   "execution_count": 2,
   "metadata": {
    "vscode": {
     "languageId": "r"
    }
   },
   "outputs": [
    {
     "data": {
      "text/html": [
       "<style>\n",
       ".list-inline {list-style: none; margin:0; padding: 0}\n",
       ".list-inline>li {display: inline-block}\n",
       ".list-inline>li:not(:last-child)::after {content: \"\\00b7\"; padding: 0 .5ex}\n",
       "</style>\n",
       "<ol class=list-inline><li>2</li><li>3</li><li>4</li><li>5</li><li>6</li><li>7</li><li>3</li><li>4</li><li>5</li><li>6</li><li>7</li><li>8</li><li>4</li><li>5</li><li>6</li><li>7</li><li>8</li><li>9</li><li>5</li><li>6</li><li>7</li><li>8</li><li>9</li><li>10</li><li>6</li><li>7</li><li>8</li><li>9</li><li>10</li><li>11</li><li>7</li><li>8</li><li>9</li><li>10</li><li>11</li><li>12</li></ol>\n"
      ],
      "text/latex": [
       "\\begin{enumerate*}\n",
       "\\item 2\n",
       "\\item 3\n",
       "\\item 4\n",
       "\\item 5\n",
       "\\item 6\n",
       "\\item 7\n",
       "\\item 3\n",
       "\\item 4\n",
       "\\item 5\n",
       "\\item 6\n",
       "\\item 7\n",
       "\\item 8\n",
       "\\item 4\n",
       "\\item 5\n",
       "\\item 6\n",
       "\\item 7\n",
       "\\item 8\n",
       "\\item 9\n",
       "\\item 5\n",
       "\\item 6\n",
       "\\item 7\n",
       "\\item 8\n",
       "\\item 9\n",
       "\\item 10\n",
       "\\item 6\n",
       "\\item 7\n",
       "\\item 8\n",
       "\\item 9\n",
       "\\item 10\n",
       "\\item 11\n",
       "\\item 7\n",
       "\\item 8\n",
       "\\item 9\n",
       "\\item 10\n",
       "\\item 11\n",
       "\\item 12\n",
       "\\end{enumerate*}\n"
      ],
      "text/markdown": [
       "1. 2\n",
       "2. 3\n",
       "3. 4\n",
       "4. 5\n",
       "5. 6\n",
       "6. 7\n",
       "7. 3\n",
       "8. 4\n",
       "9. 5\n",
       "10. 6\n",
       "11. 7\n",
       "12. 8\n",
       "13. 4\n",
       "14. 5\n",
       "15. 6\n",
       "16. 7\n",
       "17. 8\n",
       "18. 9\n",
       "19. 5\n",
       "20. 6\n",
       "21. 7\n",
       "22. 8\n",
       "23. 9\n",
       "24. 10\n",
       "25. 6\n",
       "26. 7\n",
       "27. 8\n",
       "28. 9\n",
       "29. 10\n",
       "30. 11\n",
       "31. 7\n",
       "32. 8\n",
       "33. 9\n",
       "34. 10\n",
       "35. 11\n",
       "36. 12\n",
       "\n",
       "\n"
      ],
      "text/plain": [
       " [1]  2  3  4  5  6  7  3  4  5  6  7  8  4  5  6  7  8  9  5  6  7  8  9 10  6\n",
       "[26]  7  8  9 10 11  7  8  9 10 11 12"
      ]
     },
     "metadata": {},
     "output_type": "display_data"
    }
   ],
   "source": [
    "z <- vector()\n",
    "for(i in 1:6)\n",
    "  for(j in 1:6)\n",
    "    z <- c(z, sum(i+j))\n",
    "z"
   ]
  },
  {
   "cell_type": "markdown",
   "metadata": {},
   "source": [
    "Salviamo in un vettore i risultati del lancio delle monete"
   ]
  },
  {
   "cell_type": "code",
   "execution_count": 3,
   "metadata": {
    "vscode": {
     "languageId": "r"
    }
   },
   "outputs": [
    {
     "data": {
      "text/html": [
       "<style>\n",
       ".list-inline {list-style: none; margin:0; padding: 0}\n",
       ".list-inline>li {display: inline-block}\n",
       ".list-inline>li:not(:last-child)::after {content: \"\\00b7\"; padding: 0 .5ex}\n",
       "</style>\n",
       "<ol class=list-inline><li>-6</li><li>-3</li><li>-3</li><li>0</li></ol>\n"
      ],
      "text/latex": [
       "\\begin{enumerate*}\n",
       "\\item -6\n",
       "\\item -3\n",
       "\\item -3\n",
       "\\item 0\n",
       "\\end{enumerate*}\n"
      ],
      "text/markdown": [
       "1. -6\n",
       "2. -3\n",
       "3. -3\n",
       "4. 0\n",
       "\n",
       "\n"
      ],
      "text/plain": [
       "[1] -6 -3 -3  0"
      ]
     },
     "metadata": {},
     "output_type": "display_data"
    }
   ],
   "source": [
    "r <- c(-3,0)\n",
    "k <- vector()\n",
    "for(i in 1:2)\n",
    "  for(j in 1:2)\n",
    "    k <- c(k, sum(r[i]+r[j]))\n",
    "k"
   ]
  },
  {
   "cell_type": "markdown",
   "metadata": {},
   "source": [
    "Creiamo un terzo vettore dove salviamo le somme dei risulati ottenuti da entrambe le prove"
   ]
  },
  {
   "cell_type": "code",
   "execution_count": 4,
   "metadata": {
    "vscode": {
     "languageId": "r"
    }
   },
   "outputs": [
    {
     "data": {
      "text/html": [
       "<style>\n",
       ".list-inline {list-style: none; margin:0; padding: 0}\n",
       ".list-inline>li {display: inline-block}\n",
       ".list-inline>li:not(:last-child)::after {content: \"\\00b7\"; padding: 0 .5ex}\n",
       "</style>\n",
       "<ol class=list-inline><li>-4</li><li>-1</li><li>-1</li><li>2</li><li>-3</li><li>0</li><li>0</li><li>3</li><li>-2</li><li>1</li><li>1</li><li>4</li><li>-1</li><li>2</li><li>2</li><li>5</li><li>0</li><li>3</li><li>3</li><li>6</li><li>1</li><li>4</li><li>4</li><li>7</li><li>-3</li><li>0</li><li>0</li><li>3</li><li>-2</li><li>1</li><li>1</li><li>4</li><li>-1</li><li>2</li><li>2</li><li>5</li><li>0</li><li>3</li><li>3</li><li>6</li><li>1</li><li>4</li><li>4</li><li>7</li><li>2</li><li>5</li><li>5</li><li>8</li><li>-2</li><li>1</li><li>1</li><li>4</li><li>-1</li><li>2</li><li>2</li><li>5</li><li>0</li><li>3</li><li>3</li><li>6</li><li>1</li><li>4</li><li>4</li><li>7</li><li>2</li><li>5</li><li>5</li><li>8</li><li>3</li><li>6</li><li>6</li><li>9</li><li>-1</li><li>2</li><li>2</li><li>5</li><li>0</li><li>3</li><li>3</li><li>6</li><li>1</li><li>4</li><li>4</li><li>7</li><li>2</li><li>5</li><li>5</li><li>8</li><li>3</li><li>6</li><li>6</li><li>9</li><li>4</li><li>7</li><li>7</li><li>10</li><li>0</li><li>3</li><li>3</li><li>6</li><li>1</li><li>4</li><li>4</li><li>7</li><li>2</li><li>5</li><li>5</li><li>8</li><li>3</li><li>6</li><li>6</li><li>9</li><li>4</li><li>7</li><li>7</li><li>10</li><li>5</li><li>8</li><li>8</li><li>11</li><li>1</li><li>4</li><li>4</li><li>7</li><li>2</li><li>5</li><li>5</li><li>8</li><li>3</li><li>6</li><li>6</li><li>9</li><li>4</li><li>7</li><li>7</li><li>10</li><li>5</li><li>8</li><li>8</li><li>11</li><li>6</li><li>9</li><li>9</li><li>12</li></ol>\n"
      ],
      "text/latex": [
       "\\begin{enumerate*}\n",
       "\\item -4\n",
       "\\item -1\n",
       "\\item -1\n",
       "\\item 2\n",
       "\\item -3\n",
       "\\item 0\n",
       "\\item 0\n",
       "\\item 3\n",
       "\\item -2\n",
       "\\item 1\n",
       "\\item 1\n",
       "\\item 4\n",
       "\\item -1\n",
       "\\item 2\n",
       "\\item 2\n",
       "\\item 5\n",
       "\\item 0\n",
       "\\item 3\n",
       "\\item 3\n",
       "\\item 6\n",
       "\\item 1\n",
       "\\item 4\n",
       "\\item 4\n",
       "\\item 7\n",
       "\\item -3\n",
       "\\item 0\n",
       "\\item 0\n",
       "\\item 3\n",
       "\\item -2\n",
       "\\item 1\n",
       "\\item 1\n",
       "\\item 4\n",
       "\\item -1\n",
       "\\item 2\n",
       "\\item 2\n",
       "\\item 5\n",
       "\\item 0\n",
       "\\item 3\n",
       "\\item 3\n",
       "\\item 6\n",
       "\\item 1\n",
       "\\item 4\n",
       "\\item 4\n",
       "\\item 7\n",
       "\\item 2\n",
       "\\item 5\n",
       "\\item 5\n",
       "\\item 8\n",
       "\\item -2\n",
       "\\item 1\n",
       "\\item 1\n",
       "\\item 4\n",
       "\\item -1\n",
       "\\item 2\n",
       "\\item 2\n",
       "\\item 5\n",
       "\\item 0\n",
       "\\item 3\n",
       "\\item 3\n",
       "\\item 6\n",
       "\\item 1\n",
       "\\item 4\n",
       "\\item 4\n",
       "\\item 7\n",
       "\\item 2\n",
       "\\item 5\n",
       "\\item 5\n",
       "\\item 8\n",
       "\\item 3\n",
       "\\item 6\n",
       "\\item 6\n",
       "\\item 9\n",
       "\\item -1\n",
       "\\item 2\n",
       "\\item 2\n",
       "\\item 5\n",
       "\\item 0\n",
       "\\item 3\n",
       "\\item 3\n",
       "\\item 6\n",
       "\\item 1\n",
       "\\item 4\n",
       "\\item 4\n",
       "\\item 7\n",
       "\\item 2\n",
       "\\item 5\n",
       "\\item 5\n",
       "\\item 8\n",
       "\\item 3\n",
       "\\item 6\n",
       "\\item 6\n",
       "\\item 9\n",
       "\\item 4\n",
       "\\item 7\n",
       "\\item 7\n",
       "\\item 10\n",
       "\\item 0\n",
       "\\item 3\n",
       "\\item 3\n",
       "\\item 6\n",
       "\\item 1\n",
       "\\item 4\n",
       "\\item 4\n",
       "\\item 7\n",
       "\\item 2\n",
       "\\item 5\n",
       "\\item 5\n",
       "\\item 8\n",
       "\\item 3\n",
       "\\item 6\n",
       "\\item 6\n",
       "\\item 9\n",
       "\\item 4\n",
       "\\item 7\n",
       "\\item 7\n",
       "\\item 10\n",
       "\\item 5\n",
       "\\item 8\n",
       "\\item 8\n",
       "\\item 11\n",
       "\\item 1\n",
       "\\item 4\n",
       "\\item 4\n",
       "\\item 7\n",
       "\\item 2\n",
       "\\item 5\n",
       "\\item 5\n",
       "\\item 8\n",
       "\\item 3\n",
       "\\item 6\n",
       "\\item 6\n",
       "\\item 9\n",
       "\\item 4\n",
       "\\item 7\n",
       "\\item 7\n",
       "\\item 10\n",
       "\\item 5\n",
       "\\item 8\n",
       "\\item 8\n",
       "\\item 11\n",
       "\\item 6\n",
       "\\item 9\n",
       "\\item 9\n",
       "\\item 12\n",
       "\\end{enumerate*}\n"
      ],
      "text/markdown": [
       "1. -4\n",
       "2. -1\n",
       "3. -1\n",
       "4. 2\n",
       "5. -3\n",
       "6. 0\n",
       "7. 0\n",
       "8. 3\n",
       "9. -2\n",
       "10. 1\n",
       "11. 1\n",
       "12. 4\n",
       "13. -1\n",
       "14. 2\n",
       "15. 2\n",
       "16. 5\n",
       "17. 0\n",
       "18. 3\n",
       "19. 3\n",
       "20. 6\n",
       "21. 1\n",
       "22. 4\n",
       "23. 4\n",
       "24. 7\n",
       "25. -3\n",
       "26. 0\n",
       "27. 0\n",
       "28. 3\n",
       "29. -2\n",
       "30. 1\n",
       "31. 1\n",
       "32. 4\n",
       "33. -1\n",
       "34. 2\n",
       "35. 2\n",
       "36. 5\n",
       "37. 0\n",
       "38. 3\n",
       "39. 3\n",
       "40. 6\n",
       "41. 1\n",
       "42. 4\n",
       "43. 4\n",
       "44. 7\n",
       "45. 2\n",
       "46. 5\n",
       "47. 5\n",
       "48. 8\n",
       "49. -2\n",
       "50. 1\n",
       "51. 1\n",
       "52. 4\n",
       "53. -1\n",
       "54. 2\n",
       "55. 2\n",
       "56. 5\n",
       "57. 0\n",
       "58. 3\n",
       "59. 3\n",
       "60. 6\n",
       "61. 1\n",
       "62. 4\n",
       "63. 4\n",
       "64. 7\n",
       "65. 2\n",
       "66. 5\n",
       "67. 5\n",
       "68. 8\n",
       "69. 3\n",
       "70. 6\n",
       "71. 6\n",
       "72. 9\n",
       "73. -1\n",
       "74. 2\n",
       "75. 2\n",
       "76. 5\n",
       "77. 0\n",
       "78. 3\n",
       "79. 3\n",
       "80. 6\n",
       "81. 1\n",
       "82. 4\n",
       "83. 4\n",
       "84. 7\n",
       "85. 2\n",
       "86. 5\n",
       "87. 5\n",
       "88. 8\n",
       "89. 3\n",
       "90. 6\n",
       "91. 6\n",
       "92. 9\n",
       "93. 4\n",
       "94. 7\n",
       "95. 7\n",
       "96. 10\n",
       "97. 0\n",
       "98. 3\n",
       "99. 3\n",
       "100. 6\n",
       "101. 1\n",
       "102. 4\n",
       "103. 4\n",
       "104. 7\n",
       "105. 2\n",
       "106. 5\n",
       "107. 5\n",
       "108. 8\n",
       "109. 3\n",
       "110. 6\n",
       "111. 6\n",
       "112. 9\n",
       "113. 4\n",
       "114. 7\n",
       "115. 7\n",
       "116. 10\n",
       "117. 5\n",
       "118. 8\n",
       "119. 8\n",
       "120. 11\n",
       "121. 1\n",
       "122. 4\n",
       "123. 4\n",
       "124. 7\n",
       "125. 2\n",
       "126. 5\n",
       "127. 5\n",
       "128. 8\n",
       "129. 3\n",
       "130. 6\n",
       "131. 6\n",
       "132. 9\n",
       "133. 4\n",
       "134. 7\n",
       "135. 7\n",
       "136. 10\n",
       "137. 5\n",
       "138. 8\n",
       "139. 8\n",
       "140. 11\n",
       "141. 6\n",
       "142. 9\n",
       "143. 9\n",
       "144. 12\n",
       "\n",
       "\n"
      ],
      "text/plain": [
       "  [1] -4 -1 -1  2 -3  0  0  3 -2  1  1  4 -1  2  2  5  0  3  3  6  1  4  4  7 -3\n",
       " [26]  0  0  3 -2  1  1  4 -1  2  2  5  0  3  3  6  1  4  4  7  2  5  5  8 -2  1\n",
       " [51]  1  4 -1  2  2  5  0  3  3  6  1  4  4  7  2  5  5  8  3  6  6  9 -1  2  2\n",
       " [76]  5  0  3  3  6  1  4  4  7  2  5  5  8  3  6  6  9  4  7  7 10  0  3  3  6\n",
       "[101]  1  4  4  7  2  5  5  8  3  6  6  9  4  7  7 10  5  8  8 11  1  4  4  7  2\n",
       "[126]  5  5  8  3  6  6  9  4  7  7 10  5  8  8 11  6  9  9 12"
      ]
     },
     "metadata": {},
     "output_type": "display_data"
    }
   ],
   "source": [
    "xx <- vector()\n",
    "for(i in 1:length(z))\n",
    "  for(j in 1:length(k))\n",
    "    xx <- c(xx, z[i]+k[j])\n",
    "xx"
   ]
  },
  {
   "cell_type": "markdown",
   "metadata": {},
   "source": [
    "#### <span style=\"color:#3182bd\">Funzione di Probabilita'</span>"
   ]
  },
  {
   "cell_type": "markdown",
   "metadata": {},
   "source": [
    "Ordiniamo i risultati"
   ]
  },
  {
   "cell_type": "code",
   "execution_count": 5,
   "metadata": {
    "vscode": {
     "languageId": "r"
    }
   },
   "outputs": [
    {
     "data": {
      "text/html": [
       "<style>\n",
       ".list-inline {list-style: none; margin:0; padding: 0}\n",
       ".list-inline>li {display: inline-block}\n",
       ".list-inline>li:not(:last-child)::after {content: \"\\00b7\"; padding: 0 .5ex}\n",
       "</style>\n",
       "<ol class=list-inline><li>-4</li><li>-3</li><li>-3</li><li>-2</li><li>-2</li><li>-2</li><li>-1</li><li>-1</li><li>-1</li><li>-1</li><li>-1</li><li>-1</li><li>0</li><li>0</li><li>0</li><li>0</li><li>0</li><li>0</li><li>0</li><li>0</li><li>0</li><li>1</li><li>1</li><li>1</li><li>1</li><li>1</li><li>1</li><li>1</li><li>1</li><li>1</li><li>1</li><li>1</li><li>1</li><li>2</li><li>2</li><li>2</li><li>2</li><li>2</li><li>2</li><li>2</li><li>2</li><li>2</li><li>2</li><li>2</li><li>2</li><li>2</li><li>2</li><li>3</li><li>3</li><li>3</li><li>3</li><li>3</li><li>3</li><li>3</li><li>3</li><li>3</li><li>3</li><li>3</li><li>3</li><li>3</li><li>3</li><li>3</li><li>3</li><li>4</li><li>4</li><li>4</li><li>4</li><li>4</li><li>4</li><li>4</li><li>4</li><li>4</li><li>4</li><li>4</li><li>4</li><li>4</li><li>4</li><li>4</li><li>4</li><li>4</li><li>4</li><li>5</li><li>5</li><li>5</li><li>5</li><li>5</li><li>5</li><li>5</li><li>5</li><li>5</li><li>5</li><li>5</li><li>5</li><li>5</li><li>5</li><li>5</li><li>5</li><li>6</li><li>6</li><li>6</li><li>6</li><li>6</li><li>6</li><li>6</li><li>6</li><li>6</li><li>6</li><li>6</li><li>6</li><li>6</li><li>6</li><li>7</li><li>7</li><li>7</li><li>7</li><li>7</li><li>7</li><li>7</li><li>7</li><li>7</li><li>7</li><li>7</li><li>7</li><li>8</li><li>8</li><li>8</li><li>8</li><li>8</li><li>8</li><li>8</li><li>8</li><li>8</li><li>9</li><li>9</li><li>9</li><li>9</li><li>9</li><li>9</li><li>10</li><li>10</li><li>10</li><li>11</li><li>11</li><li>12</li></ol>\n"
      ],
      "text/latex": [
       "\\begin{enumerate*}\n",
       "\\item -4\n",
       "\\item -3\n",
       "\\item -3\n",
       "\\item -2\n",
       "\\item -2\n",
       "\\item -2\n",
       "\\item -1\n",
       "\\item -1\n",
       "\\item -1\n",
       "\\item -1\n",
       "\\item -1\n",
       "\\item -1\n",
       "\\item 0\n",
       "\\item 0\n",
       "\\item 0\n",
       "\\item 0\n",
       "\\item 0\n",
       "\\item 0\n",
       "\\item 0\n",
       "\\item 0\n",
       "\\item 0\n",
       "\\item 1\n",
       "\\item 1\n",
       "\\item 1\n",
       "\\item 1\n",
       "\\item 1\n",
       "\\item 1\n",
       "\\item 1\n",
       "\\item 1\n",
       "\\item 1\n",
       "\\item 1\n",
       "\\item 1\n",
       "\\item 1\n",
       "\\item 2\n",
       "\\item 2\n",
       "\\item 2\n",
       "\\item 2\n",
       "\\item 2\n",
       "\\item 2\n",
       "\\item 2\n",
       "\\item 2\n",
       "\\item 2\n",
       "\\item 2\n",
       "\\item 2\n",
       "\\item 2\n",
       "\\item 2\n",
       "\\item 2\n",
       "\\item 3\n",
       "\\item 3\n",
       "\\item 3\n",
       "\\item 3\n",
       "\\item 3\n",
       "\\item 3\n",
       "\\item 3\n",
       "\\item 3\n",
       "\\item 3\n",
       "\\item 3\n",
       "\\item 3\n",
       "\\item 3\n",
       "\\item 3\n",
       "\\item 3\n",
       "\\item 3\n",
       "\\item 3\n",
       "\\item 4\n",
       "\\item 4\n",
       "\\item 4\n",
       "\\item 4\n",
       "\\item 4\n",
       "\\item 4\n",
       "\\item 4\n",
       "\\item 4\n",
       "\\item 4\n",
       "\\item 4\n",
       "\\item 4\n",
       "\\item 4\n",
       "\\item 4\n",
       "\\item 4\n",
       "\\item 4\n",
       "\\item 4\n",
       "\\item 4\n",
       "\\item 4\n",
       "\\item 5\n",
       "\\item 5\n",
       "\\item 5\n",
       "\\item 5\n",
       "\\item 5\n",
       "\\item 5\n",
       "\\item 5\n",
       "\\item 5\n",
       "\\item 5\n",
       "\\item 5\n",
       "\\item 5\n",
       "\\item 5\n",
       "\\item 5\n",
       "\\item 5\n",
       "\\item 5\n",
       "\\item 5\n",
       "\\item 6\n",
       "\\item 6\n",
       "\\item 6\n",
       "\\item 6\n",
       "\\item 6\n",
       "\\item 6\n",
       "\\item 6\n",
       "\\item 6\n",
       "\\item 6\n",
       "\\item 6\n",
       "\\item 6\n",
       "\\item 6\n",
       "\\item 6\n",
       "\\item 6\n",
       "\\item 7\n",
       "\\item 7\n",
       "\\item 7\n",
       "\\item 7\n",
       "\\item 7\n",
       "\\item 7\n",
       "\\item 7\n",
       "\\item 7\n",
       "\\item 7\n",
       "\\item 7\n",
       "\\item 7\n",
       "\\item 7\n",
       "\\item 8\n",
       "\\item 8\n",
       "\\item 8\n",
       "\\item 8\n",
       "\\item 8\n",
       "\\item 8\n",
       "\\item 8\n",
       "\\item 8\n",
       "\\item 8\n",
       "\\item 9\n",
       "\\item 9\n",
       "\\item 9\n",
       "\\item 9\n",
       "\\item 9\n",
       "\\item 9\n",
       "\\item 10\n",
       "\\item 10\n",
       "\\item 10\n",
       "\\item 11\n",
       "\\item 11\n",
       "\\item 12\n",
       "\\end{enumerate*}\n"
      ],
      "text/markdown": [
       "1. -4\n",
       "2. -3\n",
       "3. -3\n",
       "4. -2\n",
       "5. -2\n",
       "6. -2\n",
       "7. -1\n",
       "8. -1\n",
       "9. -1\n",
       "10. -1\n",
       "11. -1\n",
       "12. -1\n",
       "13. 0\n",
       "14. 0\n",
       "15. 0\n",
       "16. 0\n",
       "17. 0\n",
       "18. 0\n",
       "19. 0\n",
       "20. 0\n",
       "21. 0\n",
       "22. 1\n",
       "23. 1\n",
       "24. 1\n",
       "25. 1\n",
       "26. 1\n",
       "27. 1\n",
       "28. 1\n",
       "29. 1\n",
       "30. 1\n",
       "31. 1\n",
       "32. 1\n",
       "33. 1\n",
       "34. 2\n",
       "35. 2\n",
       "36. 2\n",
       "37. 2\n",
       "38. 2\n",
       "39. 2\n",
       "40. 2\n",
       "41. 2\n",
       "42. 2\n",
       "43. 2\n",
       "44. 2\n",
       "45. 2\n",
       "46. 2\n",
       "47. 2\n",
       "48. 3\n",
       "49. 3\n",
       "50. 3\n",
       "51. 3\n",
       "52. 3\n",
       "53. 3\n",
       "54. 3\n",
       "55. 3\n",
       "56. 3\n",
       "57. 3\n",
       "58. 3\n",
       "59. 3\n",
       "60. 3\n",
       "61. 3\n",
       "62. 3\n",
       "63. 3\n",
       "64. 4\n",
       "65. 4\n",
       "66. 4\n",
       "67. 4\n",
       "68. 4\n",
       "69. 4\n",
       "70. 4\n",
       "71. 4\n",
       "72. 4\n",
       "73. 4\n",
       "74. 4\n",
       "75. 4\n",
       "76. 4\n",
       "77. 4\n",
       "78. 4\n",
       "79. 4\n",
       "80. 4\n",
       "81. 4\n",
       "82. 5\n",
       "83. 5\n",
       "84. 5\n",
       "85. 5\n",
       "86. 5\n",
       "87. 5\n",
       "88. 5\n",
       "89. 5\n",
       "90. 5\n",
       "91. 5\n",
       "92. 5\n",
       "93. 5\n",
       "94. 5\n",
       "95. 5\n",
       "96. 5\n",
       "97. 5\n",
       "98. 6\n",
       "99. 6\n",
       "100. 6\n",
       "101. 6\n",
       "102. 6\n",
       "103. 6\n",
       "104. 6\n",
       "105. 6\n",
       "106. 6\n",
       "107. 6\n",
       "108. 6\n",
       "109. 6\n",
       "110. 6\n",
       "111. 6\n",
       "112. 7\n",
       "113. 7\n",
       "114. 7\n",
       "115. 7\n",
       "116. 7\n",
       "117. 7\n",
       "118. 7\n",
       "119. 7\n",
       "120. 7\n",
       "121. 7\n",
       "122. 7\n",
       "123. 7\n",
       "124. 8\n",
       "125. 8\n",
       "126. 8\n",
       "127. 8\n",
       "128. 8\n",
       "129. 8\n",
       "130. 8\n",
       "131. 8\n",
       "132. 8\n",
       "133. 9\n",
       "134. 9\n",
       "135. 9\n",
       "136. 9\n",
       "137. 9\n",
       "138. 9\n",
       "139. 10\n",
       "140. 10\n",
       "141. 10\n",
       "142. 11\n",
       "143. 11\n",
       "144. 12\n",
       "\n",
       "\n"
      ],
      "text/plain": [
       "  [1] -4 -3 -3 -2 -2 -2 -1 -1 -1 -1 -1 -1  0  0  0  0  0  0  0  0  0  1  1  1  1\n",
       " [26]  1  1  1  1  1  1  1  1  2  2  2  2  2  2  2  2  2  2  2  2  2  2  3  3  3\n",
       " [51]  3  3  3  3  3  3  3  3  3  3  3  3  3  4  4  4  4  4  4  4  4  4  4  4  4\n",
       " [76]  4  4  4  4  4  4  5  5  5  5  5  5  5  5  5  5  5  5  5  5  5  5  6  6  6\n",
       "[101]  6  6  6  6  6  6  6  6  6  6  6  7  7  7  7  7  7  7  7  7  7  7  7  8  8\n",
       "[126]  8  8  8  8  8  8  8  9  9  9  9  9  9 10 10 10 11 11 12"
      ]
     },
     "metadata": {},
     "output_type": "display_data"
    }
   ],
   "source": [
    "xx <- sort(xx)\n",
    "xx"
   ]
  },
  {
   "cell_type": "markdown",
   "metadata": {},
   "source": [
    "Calcoliamo le probabilita'"
   ]
  },
  {
   "cell_type": "code",
   "execution_count": 6,
   "metadata": {
    "vscode": {
     "languageId": "r"
    }
   },
   "outputs": [
    {
     "data": {
      "text/plain": [
       "xx\n",
       "    -4     -3     -2     -1      0      1      2      3      4      5      6 \n",
       "0.0069 0.0139 0.0208 0.0417 0.0625 0.0833 0.0972 0.1111 0.1250 0.1111 0.0972 \n",
       "     7      8      9     10     11     12 \n",
       "0.0833 0.0625 0.0417 0.0208 0.0139 0.0069 "
      ]
     },
     "metadata": {},
     "output_type": "display_data"
    },
    {
     "data": {
      "image/png": "[encoded data removed]",
      "text/plain": [
       "plot without title"
      ]
     },
     "metadata": {
      "image/png": {
       "height": 420,
       "width": 420
      }
     },
     "output_type": "display_data"
    }
   ],
   "source": [
    "round(table(xx)/length(xx),4)\n",
    "x <- unique(xx)\n",
    "px <- as.vector(round(table(xx)/length(xx),4))\n",
    "\n",
    "par(bg=\"white\")\n",
    "plot(x, px, type=\"h\")"
   ]
  },
  {
   "cell_type": "markdown",
   "metadata": {},
   "source": [
    "#### <span style=\"color:#3182bd\">Funzione di Ripartizione</span>"
   ]
  },
  {
   "cell_type": "code",
   "execution_count": 7,
   "metadata": {
    "vscode": {
     "languageId": "r"
    }
   },
   "outputs": [
    {
     "data": {
      "text/html": [
       "<style>\n",
       ".list-inline {list-style: none; margin:0; padding: 0}\n",
       ".list-inline>li {display: inline-block}\n",
       ".list-inline>li:not(:last-child)::after {content: \"\\00b7\"; padding: 0 .5ex}\n",
       "</style>\n",
       "<ol class=list-inline><li>0.0069</li><li>0.0208</li><li>0.0416</li><li>0.0833</li><li>0.1458</li><li>0.2291</li><li>0.3263</li><li>0.4374</li><li>0.5624</li><li>0.6735</li><li>0.7707</li><li>0.854</li><li>0.9165</li><li>0.9582</li><li>0.979</li><li>0.9929</li><li>0.9998</li></ol>\n"
      ],
      "text/latex": [
       "\\begin{enumerate*}\n",
       "\\item 0.0069\n",
       "\\item 0.0208\n",
       "\\item 0.0416\n",
       "\\item 0.0833\n",
       "\\item 0.1458\n",
       "\\item 0.2291\n",
       "\\item 0.3263\n",
       "\\item 0.4374\n",
       "\\item 0.5624\n",
       "\\item 0.6735\n",
       "\\item 0.7707\n",
       "\\item 0.854\n",
       "\\item 0.9165\n",
       "\\item 0.9582\n",
       "\\item 0.979\n",
       "\\item 0.9929\n",
       "\\item 0.9998\n",
       "\\end{enumerate*}\n"
      ],
      "text/markdown": [
       "1. 0.0069\n",
       "2. 0.0208\n",
       "3. 0.0416\n",
       "4. 0.0833\n",
       "5. 0.1458\n",
       "6. 0.2291\n",
       "7. 0.3263\n",
       "8. 0.4374\n",
       "9. 0.5624\n",
       "10. 0.6735\n",
       "11. 0.7707\n",
       "12. 0.854\n",
       "13. 0.9165\n",
       "14. 0.9582\n",
       "15. 0.979\n",
       "16. 0.9929\n",
       "17. 0.9998\n",
       "\n",
       "\n"
      ],
      "text/plain": [
       " [1] 0.0069 0.0208 0.0416 0.0833 0.1458 0.2291 0.3263 0.4374 0.5624 0.6735\n",
       "[11] 0.7707 0.8540 0.9165 0.9582 0.9790 0.9929 0.9998"
      ]
     },
     "metadata": {},
     "output_type": "display_data"
    },
    {
     "data": {
      "image/png": "[encoded data removed]",
      "text/plain": [
       "plot without title"
      ]
     },
     "metadata": {
      "image/png": {
       "height": 420,
       "width": 420
      }
     },
     "output_type": "display_data"
    }
   ],
   "source": [
    "Fx <- cumsum(px)\n",
    "Fx\n",
    "\n",
    "par(bg=\"white\")\n",
    "plot(x, Fx, type=\"p\")"
   ]
  },
  {
   "cell_type": "markdown",
   "metadata": {},
   "source": [
    "#### <span style=\"color:#3182bd\">Valore Atteso</span>"
   ]
  },
  {
   "cell_type": "code",
   "execution_count": 8,
   "metadata": {
    "vscode": {
     "languageId": "r"
    }
   },
   "outputs": [
    {
     "data": {
      "text/html": [
       "3.9992"
      ],
      "text/latex": [
       "3.9992"
      ],
      "text/markdown": [
       "3.9992"
      ],
      "text/plain": [
       "[1] 3.9992"
      ]
     },
     "metadata": {},
     "output_type": "display_data"
    }
   ],
   "source": [
    "Ex <- sum(x * px)\n",
    "Ex"
   ]
  },
  {
   "cell_type": "markdown",
   "metadata": {},
   "source": [
    "#### <span style=\"color:#3182bd\">Varianza</span>"
   ]
  },
  {
   "cell_type": "code",
   "execution_count": 9,
   "metadata": {
    "vscode": {
     "languageId": "r"
    }
   },
   "outputs": [
    {
     "data": {
      "text/html": [
       "24.00000064"
      ],
      "text/latex": [
       "24.00000064"
      ],
      "text/markdown": [
       "24.00000064"
      ],
      "text/plain": [
       "[1] 24"
      ]
     },
     "metadata": {},
     "output_type": "display_data"
    }
   ],
   "source": [
    "VarX <- mean((x - Ex)^2)\n",
    "VarX"
   ]
  },
  {
   "cell_type": "markdown",
   "metadata": {},
   "source": [
    "#### <span style=\"color:#3182bd\">Scarto Quadratico Medio</span>"
   ]
  },
  {
   "cell_type": "code",
   "execution_count": 10,
   "metadata": {
    "vscode": {
     "languageId": "r"
    }
   },
   "outputs": [
    {
     "data": {
      "text/html": [
       "4.89897955088608"
      ],
      "text/latex": [
       "4.89897955088608"
      ],
      "text/markdown": [
       "4.89897955088608"
      ],
      "text/plain": [
       "[1] 4.89898"
      ]
     },
     "metadata": {},
     "output_type": "display_data"
    }
   ],
   "source": [
    "sqmX <- sqrt(VarX)\n",
    "sqmX"
   ]
  },
  {
   "cell_type": "markdown",
   "metadata": {},
   "source": [
    "#### <span style=\"color:#3182bd\">Ripetiamo l'esperimento 100 volte</span>"
   ]
  },
  {
   "cell_type": "code",
   "execution_count": 11,
   "metadata": {
    "vscode": {
     "languageId": "r"
    }
   },
   "outputs": [
    {
     "data": {
      "text/html": [
       "<style>\n",
       ".list-inline {list-style: none; margin:0; padding: 0}\n",
       ".list-inline>li {display: inline-block}\n",
       ".list-inline>li:not(:last-child)::after {content: \"\\00b7\"; padding: 0 .5ex}\n",
       "</style>\n",
       "<ol class=list-inline><li>2</li><li>7</li><li>2</li><li>3</li><li>-4</li><li>1</li><li>4</li><li>5</li><li>1</li><li>-3</li><li>3</li><li>6</li><li>10</li><li>1</li><li>1</li><li>0</li><li>7</li><li>6</li><li>4</li><li>0</li><li>6</li><li>7</li><li>4</li><li>4</li><li>9</li><li>8</li><li>6</li><li>7</li><li>4</li><li>1</li><li>5</li><li>9</li><li>6</li><li>-2</li><li>5</li><li>2</li><li>8</li><li>4</li><li>4</li><li>4</li><li>5</li><li>9</li><li>9</li><li>8</li><li>7</li><li>1</li><li>8</li><li>8</li><li>5</li><li>6</li><li>7</li><li>3</li><li>4</li><li>7</li><li>2</li><li>0</li><li>4</li><li>3</li><li>0</li><li>6</li><li>-4</li><li>9</li><li>0</li><li>0</li><li>5</li><li>4</li><li>5</li><li>3</li><li>-1</li><li>7</li><li>-3</li><li>-4</li><li>1</li><li>3</li><li>7</li><li>4</li><li>0</li><li>0</li><li>0</li><li>-2</li><li>2</li><li>11</li><li>10</li><li>1</li><li>2</li><li>-1</li><li>9</li><li>8</li><li>-1</li><li>2</li><li>4</li><li>3</li><li>6</li><li>2</li><li>0</li><li>8</li><li>7</li><li>9</li><li>-3</li><li>2</li></ol>\n"
      ],
      "text/latex": [
       "\\begin{enumerate*}\n",
       "\\item 2\n",
       "\\item 7\n",
       "\\item 2\n",
       "\\item 3\n",
       "\\item -4\n",
       "\\item 1\n",
       "\\item 4\n",
       "\\item 5\n",
       "\\item 1\n",
       "\\item -3\n",
       "\\item 3\n",
       "\\item 6\n",
       "\\item 10\n",
       "\\item 1\n",
       "\\item 1\n",
       "\\item 0\n",
       "\\item 7\n",
       "\\item 6\n",
       "\\item 4\n",
       "\\item 0\n",
       "\\item 6\n",
       "\\item 7\n",
       "\\item 4\n",
       "\\item 4\n",
       "\\item 9\n",
       "\\item 8\n",
       "\\item 6\n",
       "\\item 7\n",
       "\\item 4\n",
       "\\item 1\n",
       "\\item 5\n",
       "\\item 9\n",
       "\\item 6\n",
       "\\item -2\n",
       "\\item 5\n",
       "\\item 2\n",
       "\\item 8\n",
       "\\item 4\n",
       "\\item 4\n",
       "\\item 4\n",
       "\\item 5\n",
       "\\item 9\n",
       "\\item 9\n",
       "\\item 8\n",
       "\\item 7\n",
       "\\item 1\n",
       "\\item 8\n",
       "\\item 8\n",
       "\\item 5\n",
       "\\item 6\n",
       "\\item 7\n",
       "\\item 3\n",
       "\\item 4\n",
       "\\item 7\n",
       "\\item 2\n",
       "\\item 0\n",
       "\\item 4\n",
       "\\item 3\n",
       "\\item 0\n",
       "\\item 6\n",
       "\\item -4\n",
       "\\item 9\n",
       "\\item 0\n",
       "\\item 0\n",
       "\\item 5\n",
       "\\item 4\n",
       "\\item 5\n",
       "\\item 3\n",
       "\\item -1\n",
       "\\item 7\n",
       "\\item -3\n",
       "\\item -4\n",
       "\\item 1\n",
       "\\item 3\n",
       "\\item 7\n",
       "\\item 4\n",
       "\\item 0\n",
       "\\item 0\n",
       "\\item 0\n",
       "\\item -2\n",
       "\\item 2\n",
       "\\item 11\n",
       "\\item 10\n",
       "\\item 1\n",
       "\\item 2\n",
       "\\item -1\n",
       "\\item 9\n",
       "\\item 8\n",
       "\\item -1\n",
       "\\item 2\n",
       "\\item 4\n",
       "\\item 3\n",
       "\\item 6\n",
       "\\item 2\n",
       "\\item 0\n",
       "\\item 8\n",
       "\\item 7\n",
       "\\item 9\n",
       "\\item -3\n",
       "\\item 2\n",
       "\\end{enumerate*}\n"
      ],
      "text/markdown": [
       "1. 2\n",
       "2. 7\n",
       "3. 2\n",
       "4. 3\n",
       "5. -4\n",
       "6. 1\n",
       "7. 4\n",
       "8. 5\n",
       "9. 1\n",
       "10. -3\n",
       "11. 3\n",
       "12. 6\n",
       "13. 10\n",
       "14. 1\n",
       "15. 1\n",
       "16. 0\n",
       "17. 7\n",
       "18. 6\n",
       "19. 4\n",
       "20. 0\n",
       "21. 6\n",
       "22. 7\n",
       "23. 4\n",
       "24. 4\n",
       "25. 9\n",
       "26. 8\n",
       "27. 6\n",
       "28. 7\n",
       "29. 4\n",
       "30. 1\n",
       "31. 5\n",
       "32. 9\n",
       "33. 6\n",
       "34. -2\n",
       "35. 5\n",
       "36. 2\n",
       "37. 8\n",
       "38. 4\n",
       "39. 4\n",
       "40. 4\n",
       "41. 5\n",
       "42. 9\n",
       "43. 9\n",
       "44. 8\n",
       "45. 7\n",
       "46. 1\n",
       "47. 8\n",
       "48. 8\n",
       "49. 5\n",
       "50. 6\n",
       "51. 7\n",
       "52. 3\n",
       "53. 4\n",
       "54. 7\n",
       "55. 2\n",
       "56. 0\n",
       "57. 4\n",
       "58. 3\n",
       "59. 0\n",
       "60. 6\n",
       "61. -4\n",
       "62. 9\n",
       "63. 0\n",
       "64. 0\n",
       "65. 5\n",
       "66. 4\n",
       "67. 5\n",
       "68. 3\n",
       "69. -1\n",
       "70. 7\n",
       "71. -3\n",
       "72. -4\n",
       "73. 1\n",
       "74. 3\n",
       "75. 7\n",
       "76. 4\n",
       "77. 0\n",
       "78. 0\n",
       "79. 0\n",
       "80. -2\n",
       "81. 2\n",
       "82. 11\n",
       "83. 10\n",
       "84. 1\n",
       "85. 2\n",
       "86. -1\n",
       "87. 9\n",
       "88. 8\n",
       "89. -1\n",
       "90. 2\n",
       "91. 4\n",
       "92. 3\n",
       "93. 6\n",
       "94. 2\n",
       "95. 0\n",
       "96. 8\n",
       "97. 7\n",
       "98. 9\n",
       "99. -3\n",
       "100. 2\n",
       "\n",
       "\n"
      ],
      "text/plain": [
       "  [1]  2  7  2  3 -4  1  4  5  1 -3  3  6 10  1  1  0  7  6  4  0  6  7  4  4  9\n",
       " [26]  8  6  7  4  1  5  9  6 -2  5  2  8  4  4  4  5  9  9  8  7  1  8  8  5  6\n",
       " [51]  7  3  4  7  2  0  4  3  0  6 -4  9  0  0  5  4  5  3 -1  7 -3 -4  1  3  7\n",
       " [76]  4  0  0  0 -2  2 11 10  1  2 -1  9  8 -1  2  4  3  6  2  0  8  7  9 -3  2"
      ]
     },
     "metadata": {},
     "output_type": "display_data"
    },
    {
     "data": {
      "image/png": "[encoded data removed]",
      "text/plain": [
       "plot without title"
      ]
     },
     "metadata": {
      "image/png": {
       "height": 420,
       "width": 420
      }
     },
     "output_type": "display_data"
    }
   ],
   "source": [
    "ris100 <- rep(0,100)\n",
    "\n",
    "for(i in 1:100)\n",
    "  ris100[i] <- sum(\n",
    "  sample(1:6, size= 2, replace = T) +\n",
    "    sample(c(-3,0), size= 2, replace = T))\n",
    "\n",
    "ris100\n",
    "\n",
    "par(bg=\"white\")\n",
    "plot(ris100, type=\"h\")"
   ]
  }
 ],
 "metadata": {
  "kernelspec": {
   "display_name": "R",
   "language": "R",
   "name": "ir"
  },
  "language_info": {
   "codemirror_mode": "r",
   "file_extension": ".r",
   "mimetype": "text/x-r-source",
   "name": "R",
   "pygments_lexer": "r",
   "version": "4.3.1"
  }
 },
 "nbformat": 4,
 "nbformat_minor": 2
}
