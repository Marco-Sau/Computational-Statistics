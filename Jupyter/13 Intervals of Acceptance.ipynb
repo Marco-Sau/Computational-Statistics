{
 "cells": [
  {
   "cell_type": "markdown",
   "metadata": {},
   "source": [
    "# <span style=\"color:#756bb1\">Intervalli di Accettazione</span>"
   ]
  },
  {
   "cell_type": "markdown",
   "metadata": {},
   "source": [
    "## <span style=\"color:#e6550d\">Intervallo di Accettazione <i><strong><u>NOTO</u></strong></i> per la <b><i>MEDIA</i></b> Campionaria</span>"
   ]
  },
  {
   "cell_type": "markdown",
   "metadata": {},
   "source": [
    "#### Esempio 1: intervallo di accettazione gia' noto</br>\n",
    "    Calcolare la probabilita' che la media del campione sia compresa tra 80 e 120\n",
    "\n",
    "Ipotizziamo che mu = 100 di estrarre un campione di 35 osservazioni e che la varianza della popolazione sia uguale a 25\n",
    "\n",
    "- mu = 100\n",
    "- n = 35\n",
    "- var = 25\n",
    "- 80 ≤ media campion ≤ 120"
   ]
  },
  {
   "attachments": {
    "Screenshot 2024-01-02 at 10.19.49.png": {
     "image/png": "[encoded data removed]"
    },
    "Screenshot 2024-01-02 at 10.19.53.png": {
     "image/png": "[encoded data removed]"
    }
   },
   "cell_type": "markdown",
   "metadata": {},
   "source": [
    "![Screenshot 2024-01-02 at 10.19.49.png](<attachment:Screenshot 2024-01-02 at 10.19.49.png>)\n",
    "![Screenshot 2024-01-02 at 10.19.53.png](<attachment:Screenshot 2024-01-02 at 10.19.53.png>)"
   ]
  },
  {
   "cell_type": "code",
   "execution_count": 9,
   "metadata": {
    "vscode": {
     "languageId": "r"
    }
   },
   "outputs": [
    {
     "data": {
      "text/html": [
       "-16.9030850945703"
      ],
      "text/latex": [
       "-16.9030850945703"
      ],
      "text/markdown": [
       "-16.9030850945703"
      ],
      "text/plain": [
       "[1] -16.90309"
      ]
     },
     "metadata": {},
     "output_type": "display_data"
    },
    {
     "data": {
      "text/html": [
       "16.9030850945703"
      ],
      "text/latex": [
       "16.9030850945703"
      ],
      "text/markdown": [
       "16.9030850945703"
      ],
      "text/plain": [
       "[1] 16.90309"
      ]
     },
     "metadata": {},
     "output_type": "display_data"
    },
    {
     "data": {
      "text/html": [
       "1"
      ],
      "text/latex": [
       "1"
      ],
      "text/markdown": [
       "1"
      ],
      "text/plain": [
       "[1] 1"
      ]
     },
     "metadata": {},
     "output_type": "display_data"
    },
    {
     "name": "stdout",
     "output_type": "stream",
     "text": [
      "The probability is 1 \n"
     ]
    }
   ],
   "source": [
    "# P(X_camp sia in 80-120) = \n",
    "#P(100 - (80 - 100) / sigma/ rad_n < X_camp < 100 + (120-100) / sigma / rad_n)\n",
    "\n",
    "z1 <- (80 - 100) * (sqrt(25) / sqrt(35))\n",
    "z1\n",
    "z2 <- (120 - 100) * (sqrt(25) / sqrt(35))\n",
    "z2\n",
    "\n",
    "pnorm(z2) - pnorm(z1)\n",
    "cat(\"The probability is\", pnorm(z2) - pnorm(z1), \"\\n\")"
   ]
  },
  {
   "cell_type": "code",
   "execution_count": 1,
   "metadata": {
    "vscode": {
     "languageId": "r"
    }
   },
   "outputs": [
    {
     "name": "stdout",
     "output_type": "stream",
     "text": [
      "The probability that the sample mean is between 80 and 120 is 1 \n"
     ]
    }
   ],
   "source": [
    "calculate_probability <- function(mean, sd, n, lower_bound, upper_bound) {\n",
    "  # Convert the bounds to z-scores\n",
    "  z1 <- (lower_bound - mean) / (sd / sqrt(n))\n",
    "  z2 <- (upper_bound - mean) / (sd / sqrt(n))\n",
    "  \n",
    "  # Calculate the probability using the cumulative distribution function\n",
    "  probability <- pnorm(z2) - pnorm(z1)\n",
    "  return(probability)\n",
    "}\n",
    "\n",
    "# Example usage:\n",
    "mean <- 100      # Population mean\n",
    "sd <- sqrt(25)   # Population standard deviation\n",
    "n <- 35          # Sample size\n",
    "lower_bound <- 80\n",
    "upper_bound <- 120\n",
    "\n",
    "# Call the function and print the result\n",
    "probability <- calculate_probability(mean, sd, n, lower_bound, upper_bound)\n",
    "cat(\"The probability that the sample mean is between\", lower_bound, \"and\", upper_bound, \"is\", probability, \"\\n\")\n"
   ]
  },
  {
   "cell_type": "markdown",
   "metadata": {},
   "source": [
    "## <span style=\"color:#e6550d\">Intervallo di Accettazione <i><strong><u>NON NOTO</u></strong></i> per la <b><i>MEDIA</i></b> Campionaria</span>"
   ]
  },
  {
   "cell_type": "markdown",
   "metadata": {},
   "source": [
    "#### Esempio 2: intervallo di accettazione non noto, da determinare</br>\n",
    "    Calcolare l'intervallo entro il quale con probabilita' 0.94 si trova la media del campione\n",
    "\n",
    "Ipotizziamo che mu = 100 di estrarre un campione di 35 osservazioni e che la varianza della popolazione sia uguale a 25\n",
    "\n",
    "- mu = 100\n",
    "- n = 35\n",
    "- var = 25\n"
   ]
  },
  {
   "cell_type": "code",
   "execution_count": 1,
   "metadata": {
    "vscode": {
     "languageId": "r"
    }
   },
   "outputs": [
    {
     "name": "stdout",
     "output_type": "stream",
     "text": [
      "L'intervallo di accettazione `e [ 98.41044 ; 101.5896 ]\n"
     ]
    }
   ],
   "source": [
    "z1 <- qnorm(0.03)\n",
    "z2 <- qnorm(0.97)\n",
    "\n",
    "l_inf <- 100 + z1 * (sqrt(25) / sqrt(35))\n",
    "# l_inf\n",
    "l_sup <- 100 + z2 * (sqrt(25) / sqrt(35))\n",
    "# l_sup\n",
    "cat(\"L'intervallo di accettazione è [\", l_inf, \";\", l_sup, \"]\\n\")"
   ]
  },
  {
   "cell_type": "code",
   "execution_count": 2,
   "metadata": {
    "vscode": {
     "languageId": "r"
    }
   },
   "outputs": [
    {
     "name": "stdout",
     "output_type": "stream",
     "text": [
      "L'intervallo di accettazione `e [ 98.41044 ; 101.5896 ]\n"
     ]
    }
   ],
   "source": [
    "calculate_acceptance_interval <- function(mean, sd, n, confidence_level) {\n",
    "  # Calculate the z-scores for the lower and upper bounds of the confidence interval\n",
    "  alpha <- (1 - confidence_level) / 2\n",
    "  z1 <- qnorm(alpha)\n",
    "  z2 <- qnorm(1 - alpha)\n",
    "  \n",
    "  # Calculate the lower and upper acceptance limits\n",
    "  l_inf <- mean + z1 * (sd / sqrt(n))\n",
    "  l_sup <- mean + z2 * (sd / sqrt(n))\n",
    "  \n",
    "  return(c(l_inf, l_sup))\n",
    "}\n",
    "\n",
    "# Example usage:\n",
    "mean <- 100             # Population mean\n",
    "sd <- sqrt(25)          # Population standard deviation\n",
    "n <- 35                 # Sample size\n",
    "confidence_level <- 0.94 # Confidence level for the interval\n",
    "\n",
    "# Call the function and print the result\n",
    "acceptance_interval <- calculate_acceptance_interval(mean, sd, n, confidence_level)\n",
    "cat(\"L'intervallo di accettazione è [\", acceptance_interval[1], \";\", acceptance_interval[2], \"]\\n\")\n"
   ]
  }
 ],
 "metadata": {
  "kernelspec": {
   "display_name": "R",
   "language": "R",
   "name": "ir"
  },
  "language_info": {
   "codemirror_mode": "r",
   "file_extension": ".r",
   "mimetype": "text/x-r-source",
   "name": "R",
   "pygments_lexer": "r",
   "version": "4.3.1"
  }
 },
 "nbformat": 4,
 "nbformat_minor": 2
}
